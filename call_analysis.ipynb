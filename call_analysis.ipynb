{
 "cells": [
  {
   "cell_type": "code",
   "execution_count": 19,
   "metadata": {},
   "outputs": [],
   "source": [
    "import json\n",
    "import operator\n",
    "import numpy as np\n",
    "import matplotlib.pyplot as plt\n",
    "\n",
    "from matplotlib.animation import FuncAnimation, writers\n",
    "from matplotlib.patches import Rectangle\n",
    "from IPython.core.display import HTML\n",
    "import matplotlib.gridspec as gridspec\n",
    "from scipy.interpolate import interp1d\n",
    "from scipy.io import wavfile\n",
    "from scipy.signal import periodogram"
   ]
  },
  {
   "cell_type": "code",
   "execution_count": 20,
   "metadata": {},
   "outputs": [],
   "source": [
    "threats = [[ele['text'], ele['score']] for ele in msg['sentiment']['targets']]\n",
    "emotions = [[ele['text'], max(ele['emotion'].items(), key=operator.itemgetter(1))[0].upper()] for ele in msg['keywords']]\n",
    "\n",
    "def map_emotion(text, emotions):\n",
    "    \n",
    "    for ele in emotions:\n",
    "        if text.endswith(ele[0]): \n",
    "            return ele[1]\n",
    "        \n",
    "    return 'NEUTRAL'\n",
    "\n",
    "def map_priority(text, threats):\n",
    "    \n",
    "    for ele in threats: \n",
    "        if ele[0] in text: return 'HIGH'\n",
    "    if 'broken' in text: return 'MEDIUM'\n",
    "    \n",
    "    return 'LOW'"
   ]
  },
  {
   "cell_type": "code",
   "execution_count": 21,
   "metadata": {},
   "outputs": [],
   "source": [
    "def interpolate(t_inp, t_out, val):\n",
    "\n",
    "    if len(val) < len(t_out):\n",
    "        f = interp1d(t_inp, val, kind='linear', fill_value='extrapolate')\n",
    "        return f(t_out)\n",
    "\n",
    "    if len(val) == len(t_out):\n",
    "        return val\n",
    "\n",
    "    if len(val) > len(t_out):\n",
    "        f = interp1d(t_inp, val, kind='quadratic')\n",
    "        return f(t_out)"
   ]
  },
  {
   "cell_type": "code",
   "execution_count": 22,
   "metadata": {},
   "outputs": [],
   "source": [
    "rte, wav = wavfile.read('audios/call_911_2.wav')\n",
    "with open('audios/call_911_2.json', 'r') as raw: log = json.load(raw)\n",
    "v_beg = np.asarray(log['starts'])\n",
    "v_end = np.asarray(log['ends'])\n",
    "words = np.asarray(log['words'])"
   ]
  },
  {
   "cell_type": "code",
   "execution_count": 23,
   "metadata": {},
   "outputs": [
    {
     "data": {
      "image/png": "[encoded data removed]",
      "text/plain": [
       "<Figure size 936x288 with 4 Axes>"
      ]
     },
     "metadata": {},
     "output_type": "display_data"
    }
   ],
   "source": [
    "beg, samplerate = 0, rte\n",
    "low, top = 0, 1\n",
    "\n",
    "emo = 'NEUTRAL'\n",
    "tns = 'LOW'\n",
    "length = len(wav) / rte\n",
    "wds = ' '.join(words[v_end < top][-7:])\n",
    "\n",
    "sig = wav[max(0, int(low*rte)):min(wav.shape[0], int(top*rte))][:,0]\n",
    "sig = interpolate(np.arange(len(sig)), np.arange(samplerate), sig)\n",
    "\n",
    "f,z = periodogram(sig, fs=rte)\n",
    "msk = f < (samplerate / 50)\n",
    "f,z = f[msk], z[msk]\n",
    "\n",
    "fig = plt.figure(figsize=(13, 4))\n",
    "gds = gridspec.GridSpec(4, 3)\n",
    "\n",
    "ax1 = plt.subplot(gds[:3,:2], frameon=False)\n",
    "s_1, = ax1.plot(sig, c='dodgerblue', lw=0.75)\n",
    "ax1.set_title('Audio Signal', x=0, fontsize=11)\n",
    "ax1.set_xticks([])\n",
    "ax1.set_yticks([])\n",
    "ax1.set_ylim([-max(np.abs(wav[:,0])), max(np.abs(wav[:,0]))])\n",
    "\n",
    "ax2 = plt.subplot(gds[:3,2], frameon=False)\n",
    "s_2, = ax2.plot(f, z, c='black', lw=1.0)\n",
    "ax2.hlines(0.0, 0.0, max(f), lw=0.5)\n",
    "ax2.set_yticks([])\n",
    "ax2.set_xticks([])\n",
    "ax2.set_title('Periodogram', x=-0.04, fontsize=11)\n",
    "ax2.set_ylim([-300000.0, 300000.0])\n",
    "\n",
    "ax3 = plt.subplot(gds[3,:2], frameon=False)\n",
    "t_0 = ax3.text(4, 5, '(' + emo + ')', fontsize=14)\n",
    "t_1 = ax3.text(25, 5, wds, fontsize=14)\n",
    "ax3.set_yticks([])\n",
    "ax3.set_xticks([])\n",
    "ax3.set_title('Transcription', x=0.005, fontsize=11)\n",
    "ax3.set_xlim([0, 100])\n",
    "ax3.set_ylim([0, 10])\n",
    "\n",
    "ax4 = plt.subplot(gds[3,2], frameon=False)\n",
    "ax4.text(-148, 0, 'LOW', fontsize=14)\n",
    "ax4.text(-80, 0, 'MEDIUM', fontsize=14)\n",
    "ax4.text(20, 0, 'HIGH', fontsize=14)\n",
    "ax4.set_yticks([])\n",
    "ax4.set_xticks([])\n",
    "ax4.set_xlim([-154, 60])\n",
    "ax4.set_ylim([-20, 20])\n",
    "ax4.set_title('Priority', x=-0.105, fontsize=11)\n",
    "if tns == 'LOW': ax4.add_artist(Rectangle((-152, -4), len(list(tns))*13, 16, fill=False))\n",
    "if tns == 'MEDIUM': ax4.add_artist(Rectangle((-87, -4), len(list(tns))*12, 16, fill=False))\n",
    "if tns == 'HIGH': ax4.add_artist(Rectangle((15, -4), len(list(tns))*11, 16, fill=False))\n",
    "\n",
    "plt.show()"
   ]
  },
  {
   "cell_type": "code",
   "execution_count": 24,
   "metadata": {
    "scrolled": false
   },
   "outputs": [],
   "source": [
    "def update(frame_number):\n",
    "\n",
    "    beg = frame_number\n",
    "    low, top = frame_number/30, (frame_number/30)+1\n",
    "    wds = ' '.join(words[v_end < top][-7:])\n",
    "    \n",
    "    tmp = map_emotion(wds, emotions)\n",
    "    if tmp != 'NEUTRAL': emo = '(' + tmp + ')'\n",
    "    try: assert(type(emo)) == str\n",
    "    except: emo = '(' + 'NEUTRAL' + ')'\n",
    "    \n",
    "    tmp = map_priority(wds, threats)\n",
    "    try: assert(type(tns)) == str\n",
    "    except: tns = 'LOW'\n",
    "    if (tmp == 'MEDIUM' or tmp == 'HIGH') and tns == 'LOW': tns = tmp\n",
    "    elif tmp == 'HIGH' and (tns == 'MEDIUM' or tns == 'LOW'): tns = tmp\n",
    "\n",
    "    sig = wav[max(0, int(low*rte)):min(wav.shape[0], int(top*rte))][:,0]\n",
    "    sig = interpolate(np.arange(len(sig)), np.arange(samplerate), sig)\n",
    "\n",
    "    f,z = periodogram(sig, fs=rte)\n",
    "    msk = f < (samplerate / 50)\n",
    "    f,z = f[msk], z[msk]\n",
    "    \n",
    "    s_1.set_ydata(sig)\n",
    "    s_2.set_ydata(z)\n",
    "    t_0.set_text(emo)\n",
    "    t_1.set_text(wds)\n",
    "    \n",
    "    ax4.artists[-1].remove()\n",
    "    if tns == 'LOW': ax4.add_artist(Rectangle((-152, -4), len(list(tns))*13, 16, fill=False))\n",
    "    if tns == 'MEDIUM': ax4.add_artist(Rectangle((-87, -4), len(list(tns))*12, 16, fill=False))\n",
    "    if tns == 'HIGH': ax4.add_artist(Rectangle((15, -4), len(list(tns))*11, 16, fill=False))\n",
    "\n",
    "animation = FuncAnimation(fig, update, interval=30, frames=int(30*length))\n",
    "Writer = writers['ffmpeg']\n",
    "writer = Writer(fps=30, metadata=dict(artist='Meryll Dindin'), bitrate=1800)\n",
    "animation.save('sound_animation_0.mp4', writer=writer)"
   ]
  },
  {
   "cell_type": "code",
   "execution_count": null,
   "metadata": {},
   "outputs": [],
   "source": []
  }
 ],
 "metadata": {
  "kernelspec": {
   "display_name": "Python 3",
   "language": "python",
   "name": "python3"
  },
  "language_info": {
   "codemirror_mode": {
    "name": "ipython",
    "version": 3
   },
   "file_extension": ".py",
   "mimetype": "text/x-python",
   "name": "python",
   "nbconvert_exporter": "python",
   "pygments_lexer": "ipython3",
   "version": "3.6.7"
  }
 },
 "nbformat": 4,
 "nbformat_minor": 2
}
